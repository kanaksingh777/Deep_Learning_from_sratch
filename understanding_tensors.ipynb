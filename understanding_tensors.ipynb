{
 "cells": [
  {
   "cell_type": "code",
   "execution_count": 1,
   "id": "185bffeb-06b4-4a89-852b-ff2d23cb346a",
   "metadata": {},
   "outputs": [],
   "source": [
    "import torch "
   ]
  },
  {
   "cell_type": "code",
   "execution_count": 3,
   "id": "fc574565-c7cc-4a6c-a104-a980b5bbd1bc",
   "metadata": {},
   "outputs": [
    {
     "name": "stdout",
     "output_type": "stream",
     "text": [
      "GPU is not available\n"
     ]
    }
   ],
   "source": [
    "if torch.cuda.is_available():\n",
    "    print(\"GPU is available!\")\n",
    "    print(f\" using GPU : {torch.cuda.get_device_name(0)}\")\n",
    "else: \n",
    "    print(\"GPU is not available\")\n",
    "          "
   ]
  },
  {
   "cell_type": "code",
   "execution_count": 4,
   "id": "fb50b281-6cd3-4f90-8f7c-b53ff76d92be",
   "metadata": {},
   "outputs": [],
   "source": [
    "#tensors"
   ]
  },
  {
   "cell_type": "code",
   "execution_count": 5,
   "id": "c7951260-f949-4c55-b2f4-62ae25c964c3",
   "metadata": {},
   "outputs": [],
   "source": [
    "#creating a tensor"
   ]
  },
  {
   "cell_type": "code",
   "execution_count": 7,
   "id": "27bc5551-d53b-4929-aac7-a9a6f2b54b6e",
   "metadata": {},
   "outputs": [
    {
     "data": {
      "text/plain": [
       "tensor([[-8.4751e-22,  1.3466e-42,  0.0000e+00],\n",
       "        [ 0.0000e+00,  0.0000e+00,  0.0000e+00]])"
      ]
     },
     "execution_count": 7,
     "metadata": {},
     "output_type": "execute_result"
    }
   ],
   "source": [
    "torch.empty(2,3)\n",
    "#allocates a memory  -- these memories were already there in memory"
   ]
  },
  {
   "cell_type": "code",
   "execution_count": 9,
   "id": "d9393caf-fdfe-494e-b5d4-9c87b869dff6",
   "metadata": {},
   "outputs": [
    {
     "data": {
      "text/plain": [
       "tensor([[0., 0., 0.],\n",
       "        [0., 0., 0.]])"
      ]
     },
     "execution_count": 9,
     "metadata": {},
     "output_type": "execute_result"
    }
   ],
   "source": [
    "torch.zeros(2,3)"
   ]
  },
  {
   "cell_type": "code",
   "execution_count": 10,
   "id": "13a81969-291a-43a3-871a-0584b8056daa",
   "metadata": {},
   "outputs": [
    {
     "data": {
      "text/plain": [
       "tensor([[1., 1., 1., 1.],\n",
       "        [1., 1., 1., 1.]])"
      ]
     },
     "execution_count": 10,
     "metadata": {},
     "output_type": "execute_result"
    }
   ],
   "source": [
    "torch.ones(2,4)"
   ]
  },
  {
   "cell_type": "code",
   "execution_count": 15,
   "id": "da85aa27-4365-4b4e-9464-ea8cb501b6e6",
   "metadata": {},
   "outputs": [
    {
     "data": {
      "text/plain": [
       "tensor([[0.7015, 0.4565, 0.0568],\n",
       "        [0.2325, 0.4899, 0.2292]])"
      ]
     },
     "execution_count": 15,
     "metadata": {},
     "output_type": "execute_result"
    }
   ],
   "source": [
    "\n",
    "torch.rand(2,3)\n",
    "\n",
    "#random values from zero to one"
   ]
  },
  {
   "cell_type": "raw",
   "id": "75648cac-27ad-4c87-9da7-becfe1d0238b",
   "metadata": {},
   "source": [
    "#tensor shape "
   ]
  },
  {
   "cell_type": "code",
   "execution_count": null,
   "id": "8d9247b7-d0f0-4e9c-b008-db2a24c8aaa1",
   "metadata": {},
   "outputs": [],
   "source": []
  },
  {
   "cell_type": "code",
   "execution_count": null,
   "id": "acd3670b-e855-4ac3-87e4-7b44f18bf2e0",
   "metadata": {},
   "outputs": [],
   "source": []
  },
  {
   "cell_type": "code",
   "execution_count": 24,
   "id": "4f12c14a-a274-4db6-a8f3-405d68048eb5",
   "metadata": {},
   "outputs": [],
   "source": [
    "a = torch.rand(1,2)"
   ]
  },
  {
   "cell_type": "code",
   "execution_count": 25,
   "id": "1cb68770-6151-422d-b1bd-f105bbb18c8d",
   "metadata": {},
   "outputs": [
    {
     "data": {
      "text/plain": [
       "tensor([[0.9857, 0.2636]])"
      ]
     },
     "execution_count": 25,
     "metadata": {},
     "output_type": "execute_result"
    }
   ],
   "source": [
    "a"
   ]
  },
  {
   "cell_type": "code",
   "execution_count": 26,
   "id": "151bf6c0-701e-4a0a-9333-406b75e6b142",
   "metadata": {},
   "outputs": [
    {
     "data": {
      "text/plain": [
       "torch.Size([1, 2])"
      ]
     },
     "execution_count": 26,
     "metadata": {},
     "output_type": "execute_result"
    }
   ],
   "source": [
    "a.shape"
   ]
  },
  {
   "cell_type": "code",
   "execution_count": 27,
   "id": "a9dc263d-3e84-46ac-b739-a06051b3479a",
   "metadata": {},
   "outputs": [
    {
     "data": {
      "text/plain": [
       "tensor([0.9857, 0.2636])"
      ]
     },
     "execution_count": 27,
     "metadata": {},
     "output_type": "execute_result"
    }
   ],
   "source": [
    "a.reshape(-1)"
   ]
  },
  {
   "cell_type": "code",
   "execution_count": 28,
   "id": "7ce73c86-246d-418f-9219-7fb8a7b0c485",
   "metadata": {},
   "outputs": [
    {
     "data": {
      "text/plain": [
       "torch.Size([1, 2])"
      ]
     },
     "execution_count": 28,
     "metadata": {},
     "output_type": "execute_result"
    }
   ],
   "source": [
    "a.shape"
   ]
  },
  {
   "cell_type": "code",
   "execution_count": 29,
   "id": "236d6086-ae9a-4c06-a5e4-7d8f3f233bd5",
   "metadata": {},
   "outputs": [
    {
     "data": {
      "text/plain": [
       "tensor([[0.9857, 0.2636]])"
      ]
     },
     "execution_count": 29,
     "metadata": {},
     "output_type": "execute_result"
    }
   ],
   "source": [
    "a"
   ]
  },
  {
   "cell_type": "code",
   "execution_count": 30,
   "id": "5f5fe8f0-d50a-449f-9253-87700c9ddba0",
   "metadata": {},
   "outputs": [],
   "source": [
    "#reshaping the tensor "
   ]
  },
  {
   "cell_type": "code",
   "execution_count": 31,
   "id": "217082f7-cba5-4294-8a03-02400ec45d64",
   "metadata": {},
   "outputs": [],
   "source": [
    "a = torch.ones(3,4)"
   ]
  },
  {
   "cell_type": "code",
   "execution_count": 32,
   "id": "afdf5c12-14c2-44ca-af60-c2653cccd376",
   "metadata": {},
   "outputs": [
    {
     "data": {
      "text/plain": [
       "tensor([[1., 1., 1., 1.],\n",
       "        [1., 1., 1., 1.],\n",
       "        [1., 1., 1., 1.]])"
      ]
     },
     "execution_count": 32,
     "metadata": {},
     "output_type": "execute_result"
    }
   ],
   "source": [
    "a"
   ]
  },
  {
   "cell_type": "code",
   "execution_count": 34,
   "id": "b3ddc527-6d69-4a2d-9be4-e6d3722a2384",
   "metadata": {},
   "outputs": [
    {
     "data": {
      "text/plain": [
       "tensor([[1., 1., 1., 1., 1., 1.],\n",
       "        [1., 1., 1., 1., 1., 1.]])"
      ]
     },
     "execution_count": 34,
     "metadata": {},
     "output_type": "execute_result"
    }
   ],
   "source": [
    "a.reshape(2,6)"
   ]
  },
  {
   "cell_type": "code",
   "execution_count": 35,
   "id": "e5fcd829-5476-41e7-8faf-4b9905bbcd08",
   "metadata": {},
   "outputs": [
    {
     "data": {
      "text/plain": [
       "tensor([1., 1., 1., 1., 1., 1., 1., 1., 1., 1., 1., 1.])"
      ]
     },
     "execution_count": 35,
     "metadata": {},
     "output_type": "execute_result"
    }
   ],
   "source": [
    "a.flatten()"
   ]
  },
  {
   "cell_type": "code",
   "execution_count": null,
   "id": "df38292a-ade8-4c95-86d4-a8b045165bb5",
   "metadata": {},
   "outputs": [],
   "source": []
  }
 ],
 "metadata": {
  "kernelspec": {
   "display_name": "Python 3 (ipykernel)",
   "language": "python",
   "name": "python3"
  },
  "language_info": {
   "codemirror_mode": {
    "name": "ipython",
    "version": 3
   },
   "file_extension": ".py",
   "mimetype": "text/x-python",
   "name": "python",
   "nbconvert_exporter": "python",
   "pygments_lexer": "ipython3",
   "version": "3.12.7"
  }
 },
 "nbformat": 4,
 "nbformat_minor": 5
}
