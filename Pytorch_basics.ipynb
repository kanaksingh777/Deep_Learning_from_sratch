{
 "cells": [
  {
   "cell_type": "markdown",
   "id": "e2136bf8-8b80-4cbb-a82c-fcd5c0c75971",
   "metadata": {},
   "source": [
    "PYTORCH BASICS"
   ]
  },
  {
   "cell_type": "markdown",
   "id": "d434fcc6-2cbd-4b19-8c0e-c09786221d67",
   "metadata": {},
   "source": [
    "#Pytorch is machine- deep learning framework that is used for implementing deep learning applicationt"
   ]
  },
  {
   "cell_type": "code",
   "execution_count": 92,
   "id": "d1b5eccf-45e4-44f6-bd4f-3df5fd00ce55",
   "metadata": {},
   "outputs": [],
   "source": [
    "#pip install torch torchvision torchaudio"
   ]
  },
  {
   "cell_type": "markdown",
   "id": "76e9dbea-0c87-406a-8ca1-aa9b11649bd3",
   "metadata": {},
   "source": [
    "Importing the required libraries"
   ]
  },
  {
   "cell_type": "code",
   "execution_count": 93,
   "id": "a1c372a3-c279-4733-8ea9-21d8c0508851",
   "metadata": {},
   "outputs": [],
   "source": [
    "import torch \n",
    "import torchvision  \n",
    "import torch.nn as nn   \n",
    "import numpy as np\n",
    "import matplotlib.pyplot as plt"
   ]
  },
  {
   "cell_type": "markdown",
   "id": "d85de3f6-0494-4614-95de-9ec16d85d84c",
   "metadata": {},
   "source": [
    "ThePytorch Tensor\n",
    "\n",
    "#\"tensors\"are called \"arrayss\""
   ]
  },
  {
   "cell_type": "code",
   "execution_count": 94,
   "id": "ae5c605e-2c8a-408d-bdb1-9d02a8e80833",
   "metadata": {},
   "outputs": [],
   "source": [
    "#creating some \"Matrices\" as a list of lists \n",
    "#weight wector \n",
    "W = [[1,1,1,],\n",
    "    [1.5,1.5,1.5],\n",
    "     [2,2,2]]\n",
    "#input vector \n",
    "X = [[6],[7],[8]]\n",
    "\n",
    "#bias \n",
    "b= [[1],[1],[1]]\n"
   ]
  },
  {
   "cell_type": "code",
   "execution_count": 95,
   "id": "0ae610f1-2331-4aba-b4a9-0b86e58e0482",
   "metadata": {},
   "outputs": [],
   "source": [
    "W_np = np.array(W)\n",
    "x_np = np.array(X)"
   ]
  },
  {
   "cell_type": "code",
   "execution_count": 96,
   "id": "45638c62-e2f1-4d23-895c-b80c547ac5e9",
   "metadata": {},
   "outputs": [],
   "source": [
    "b_np = np.ones((3,1))"
   ]
  },
  {
   "cell_type": "code",
   "execution_count": 97,
   "id": "09da2825-83f9-4310-8a10-100a0098a187",
   "metadata": {},
   "outputs": [],
   "source": [
    "output = np.matmul(W_np ,x_np) +b_np"
   ]
  },
  {
   "cell_type": "code",
   "execution_count": 98,
   "id": "1fa10be8-3a02-4a50-8e51-8ce94b9ee65c",
   "metadata": {},
   "outputs": [
    {
     "name": "stdout",
     "output_type": "stream",
     "text": [
      "[[22. ]\n",
      " [32.5]\n",
      " [43. ]]\n",
      "(3, 1)\n"
     ]
    }
   ],
   "source": [
    "print(output)\n",
    "print(output.shape)"
   ]
  },
  {
   "cell_type": "markdown",
   "id": "48ca23cd-f603-4747-a880-978b8a090056",
   "metadata": {},
   "source": [
    "#NOW IN PYTORCH\n",
    "\n",
    "we can transform our list into a torch tensor by using the function \"Float Tensor\" \n"
   ]
  },
  {
   "cell_type": "code",
   "execution_count": 117,
   "id": "b8780272-b954-4c60-b35f-c4a54924c0b0",
   "metadata": {},
   "outputs": [
    {
     "data": {
      "text/plain": [
       "tensor([[1.0000, 1.0000, 1.0000],\n",
       "        [1.5000, 1.5000, 1.5000],\n",
       "        [2.0000, 2.0000, 2.0000]])"
      ]
     },
     "execution_count": 117,
     "metadata": {},
     "output_type": "execute_result"
    }
   ],
   "source": [
    "w_torh =torch.FloatTensor(W_np)\n",
    "w_torh"
   ]
  },
  {
   "cell_type": "code",
   "execution_count": 100,
   "id": "f78615e5-84d2-4a2c-b06e-ce1fdb88d291",
   "metadata": {},
   "outputs": [],
   "source": [
    "W_Torrch = torch.FloatTensor(W_np)"
   ]
  },
  {
   "cell_type": "code",
   "execution_count": 101,
   "id": "c8845767-4e63-4ae4-a342-827169fff770",
   "metadata": {},
   "outputs": [
    {
     "data": {
      "text/plain": [
       "tensor([[1.0000, 1.0000, 1.0000],\n",
       "        [1.5000, 1.5000, 1.5000],\n",
       "        [2.0000, 2.0000, 2.0000]])"
      ]
     },
     "execution_count": 101,
     "metadata": {},
     "output_type": "execute_result"
    }
   ],
   "source": [
    "W_Torrch"
   ]
  },
  {
   "cell_type": "code",
   "execution_count": 102,
   "id": "b65ecfa4-720b-44b4-bb42-1c54e0f9e0b8",
   "metadata": {},
   "outputs": [],
   "source": [
    "W_torch = torch.FloatTensor(W)\n",
    "x_torch = torch.FloatTensor(X)"
   ]
  },
  {
   "cell_type": "code",
   "execution_count": 103,
   "id": "58cafc07-b922-4a92-9a22-340a8ad3b140",
   "metadata": {},
   "outputs": [
    {
     "data": {
      "text/plain": [
       "tensor([[6.],\n",
       "        [7.],\n",
       "        [8.]])"
      ]
     },
     "execution_count": 103,
     "metadata": {},
     "output_type": "execute_result"
    }
   ],
   "source": [
    "x_torch"
   ]
  },
  {
   "cell_type": "code",
   "execution_count": 104,
   "id": "821a89f1-191e-4d16-ab37-1c654b690802",
   "metadata": {},
   "outputs": [],
   "source": [
    "b_torch = torch.ones(3,1)\n",
    "\n",
    "output = torch.matmul(W_torch ,x_torch) + b_torch"
   ]
  },
  {
   "cell_type": "code",
   "execution_count": 105,
   "id": "b11ccc3b-5ec6-4bb9-a102-c9579a938034",
   "metadata": {},
   "outputs": [
    {
     "name": "stdout",
     "output_type": "stream",
     "text": [
      "tensor([[22.0000],\n",
      "        [32.5000],\n",
      "        [43.0000]])\n"
     ]
    }
   ],
   "source": [
    "print(output)"
   ]
  },
  {
   "cell_type": "code",
   "execution_count": 106,
   "id": "8dec48a1-8218-4fec-80a6-aab47dfdb8e8",
   "metadata": {},
   "outputs": [],
   "source": [
    "#Numpy array and pytorch tensor"
   ]
  },
  {
   "cell_type": "code",
   "execution_count": 107,
   "id": "a19d1bcf-b534-4b91-b64c-37252df8f2cb",
   "metadata": {},
   "outputs": [],
   "source": [
    "np_array = np.random.random((3,4))\n",
    "\n",
    "#convert to pytorch tensor\n",
    "torch_tensor= torch.FloatTensor(np_array)\n",
    "\n",
    "#converting back to numpy array \n",
    "np_array2 = torch_tensor.numpy()"
   ]
  },
  {
   "cell_type": "code",
   "execution_count": 108,
   "id": "3171b0cc-2440-4200-842e-03ebcf0570f0",
   "metadata": {},
   "outputs": [
    {
     "data": {
      "text/plain": [
       "tensor([[0.1804, 0.4862, 0.8718, 0.5206],\n",
       "        [0.3624, 0.9687, 0.6302, 0.4064],\n",
       "        [0.4404, 0.9145, 0.3656, 0.2126]])"
      ]
     },
     "execution_count": 108,
     "metadata": {},
     "output_type": "execute_result"
    }
   ],
   "source": [
    "torch_tensor"
   ]
  },
  {
   "cell_type": "code",
   "execution_count": 109,
   "id": "0da26446-7962-46bd-b837-e9ba3006467f",
   "metadata": {},
   "outputs": [
    {
     "data": {
      "text/plain": [
       "array([[0.18035452, 0.48617354, 0.87180203, 0.5206081 ],\n",
       "       [0.36244506, 0.968674  , 0.6301949 , 0.40635517],\n",
       "       [0.44041955, 0.91452825, 0.36562157, 0.21262011]], dtype=float32)"
      ]
     },
     "execution_count": 109,
     "metadata": {},
     "output_type": "execute_result"
    }
   ],
   "source": [
    "np_array2"
   ]
  },
  {
   "cell_type": "markdown",
   "id": "2c00f3b7-0085-4516-8fb7-cc19d3c3edca",
   "metadata": {},
   "source": [
    "On to Pytorch!!\n",
    "\n",
    "#Basic element-wise Operations \n"
   ]
  },
  {
   "cell_type": "code",
   "execution_count": 110,
   "id": "d3734702-4542-497e-b735-7b605bcce9b7",
   "metadata": {},
   "outputs": [],
   "source": [
    "#creating a 2D tensor using torch.rand\n",
    "y = torch.rand(4,5)"
   ]
  },
  {
   "cell_type": "code",
   "execution_count": 111,
   "id": "2f31646c-6561-485d-a3e5-8ac29db43dc0",
   "metadata": {},
   "outputs": [
    {
     "data": {
      "text/plain": [
       "(tensor(0.0110), tensor(0.9627), tensor(0.2981), tensor(9.2523))"
      ]
     },
     "execution_count": 111,
     "metadata": {},
     "output_type": "execute_result"
    }
   ],
   "source": [
    "#scalar_multiplication \n",
    "y*10\n",
    "\n",
    "#addition and square \n",
    "(y+1) ** 2 \n",
    "\n",
    "#torch tensors are objects and have functions\n",
    "y.min() , y.max() , y.std() , y.sum()"
   ]
  },
  {
   "cell_type": "code",
   "execution_count": 112,
   "id": "79bdf585-6175-4b41-94ff-d2b10302fdfd",
   "metadata": {},
   "outputs": [
    {
     "data": {
      "text/plain": [
       "tensor([[[0.4685, 0.6031, 0.0291],\n",
       "         [0.0474, 0.5581, 0.4129],\n",
       "         [0.6750, 0.0655, 0.7587]],\n",
       "\n",
       "        [[0.1630, 0.2138, 0.1280],\n",
       "         [0.0108, 0.0699, 0.0599],\n",
       "         [0.3049, 0.0586, 0.3898]],\n",
       "\n",
       "        [[0.2822, 0.3563, 0.0853],\n",
       "         [0.0771, 0.0127, 0.2382],\n",
       "         [0.0335, 0.1897, 0.3241]]])"
      ]
     },
     "execution_count": 112,
     "metadata": {},
     "output_type": "execute_result"
    }
   ],
   "source": [
    "#tensor Operations \n",
    "tensor_1 = torch.rand(3,3,3)\n",
    "tensor_2 = torch.rand(3,3,3)\n",
    "tensor_1 * tensor_2"
   ]
  },
  {
   "cell_type": "code",
   "execution_count": 113,
   "id": "c4ac7ffe-fa51-496a-95b7-064cde8b222d",
   "metadata": {},
   "outputs": [
    {
     "data": {
      "text/plain": [
       "tensor([[[0.5660, 1.0219, 0.8138],\n",
       "         [1.0705, 1.0104, 1.5686],\n",
       "         [1.4410, 1.6746, 2.0039]],\n",
       "\n",
       "        [[0.6471, 0.6126, 0.7828],\n",
       "         [0.3084, 0.2150, 0.4106],\n",
       "         [0.5804, 0.6046, 0.5163]],\n",
       "\n",
       "        [[0.5132, 0.1978, 0.6462],\n",
       "         [0.6161, 0.4872, 1.1631],\n",
       "         [0.3358, 0.2779, 0.6159]]])"
      ]
     },
     "execution_count": 113,
     "metadata": {},
     "output_type": "execute_result"
    }
   ],
   "source": [
    "#torch_batch_multiplication \n",
    "torch.bmm(tensor_1 , tensor_2)"
   ]
  },
  {
   "cell_type": "code",
   "execution_count": 114,
   "id": "befab9bd-da7b-4042-a0e0-4cd62fb0d460",
   "metadata": {},
   "outputs": [],
   "source": [
    "tensor_3 = torch.rand(2,4,5)"
   ]
  },
  {
   "cell_type": "code",
   "execution_count": 115,
   "id": "40c63040-723f-4a59-b1fb-3c63e64e291e",
   "metadata": {},
   "outputs": [
    {
     "data": {
      "text/plain": [
       "tensor([[[0.3182, 0.8451],\n",
       "         [0.8726, 0.0313],\n",
       "         [0.0266, 0.4079],\n",
       "         [0.9058, 0.5614]],\n",
       "\n",
       "        [[0.6394, 0.9684],\n",
       "         [0.2308, 0.9894],\n",
       "         [0.4639, 0.2881],\n",
       "         [0.8498, 0.8058]],\n",
       "\n",
       "        [[0.8133, 0.4116],\n",
       "         [0.9293, 0.7317],\n",
       "         [0.0370, 0.3407],\n",
       "         [0.0394, 0.7563]],\n",
       "\n",
       "        [[0.1646, 0.9417],\n",
       "         [0.4616, 0.3560],\n",
       "         [0.8899, 0.5987],\n",
       "         [0.7619, 0.2230]],\n",
       "\n",
       "        [[0.3883, 0.7855],\n",
       "         [0.3609, 0.0443],\n",
       "         [0.0549, 0.4529],\n",
       "         [0.6115, 0.8969]]])"
      ]
     },
     "execution_count": 115,
     "metadata": {},
     "output_type": "execute_result"
    }
   ],
   "source": [
    "tensor_3.transpose(0,2)"
   ]
  },
  {
   "cell_type": "markdown",
   "id": "269856d2-02ef-495a-a185-cd89cf1016ea",
   "metadata": {},
   "source": [
    "#Describing Tensor"
   ]
  },
  {
   "cell_type": "code",
   "execution_count": 118,
   "id": "c09000a9-ad68-4f40-a412-6ab4cc683c72",
   "metadata": {},
   "outputs": [
    {
     "name": "stdout",
     "output_type": "stream",
     "text": [
      "tensor([[[0.1942, 0.9304, 0.3071],\n",
      "         [0.2701, 0.9676, 0.0959],\n",
      "         [0.7420, 0.3674, 0.7833]],\n",
      "\n",
      "        [[0.6610, 0.8532, 0.1015],\n",
      "         [0.2336, 0.8964, 0.1488],\n",
      "         [0.7151, 0.1979, 0.4933]],\n",
      "\n",
      "        [[0.9754, 0.3301, 0.3741],\n",
      "         [0.3085, 0.6779, 0.5526],\n",
      "         [0.1228, 0.4022, 0.0784]]])\n",
      "tensor([[[0.7876, 0.9970, 0.8719],\n",
      "         [0.1223, 0.7052, 0.4365],\n",
      "         [0.7065, 0.0694, 0.9355]],\n",
      "\n",
      "        [[0.5455, 0.5626, 0.1630],\n",
      "         [0.1159, 0.7339, 0.1362],\n",
      "         [0.5605, 0.2109, 0.8691]],\n",
      "\n",
      "        [[0.9151, 0.4227, 0.8021],\n",
      "         [0.2531, 0.0142, 0.3595],\n",
      "         [0.1668, 0.5218, 0.9003]]])\n"
     ]
    }
   ],
   "source": [
    "tensor_1 = torch.rand(3,3,3)\n",
    "tensor2 = torch.rand(3,3,3)\n",
    "print(tensor_1)\n",
    "print(tensor_2)"
   ]
  },
  {
   "cell_type": "markdown",
   "id": "a73463cb-ec82-4706-9e8f-811046f4e1c4",
   "metadata": {},
   "source": []
  },
  {
   "cell_type": "code",
   "execution_count": 119,
   "id": "27c63b0d-efed-4e07-89c1-2b657b2b8738",
   "metadata": {},
   "outputs": [
    {
     "data": {
      "text/plain": [
       "tensor([[[0.9819, 1.9274, 1.1790],\n",
       "         [0.3924, 1.6728, 0.5324],\n",
       "         [1.4484, 0.4368, 1.7188]],\n",
       "\n",
       "        [[1.2065, 1.4158, 0.2645],\n",
       "         [0.3495, 1.6303, 0.2850],\n",
       "         [1.2755, 0.4088, 1.3624]],\n",
       "\n",
       "        [[1.8905, 0.7527, 1.1762],\n",
       "         [0.5615, 0.6921, 0.9121],\n",
       "         [0.2896, 0.9240, 0.9787]]])"
      ]
     },
     "execution_count": 119,
     "metadata": {},
     "output_type": "execute_result"
    }
   ],
   "source": [
    "tensor_1 + tensor_2"
   ]
  },
  {
   "cell_type": "code",
   "execution_count": 122,
   "id": "ab8d5566-db92-4da6-ab4c-b0bb54c4f10a",
   "metadata": {},
   "outputs": [
    {
     "data": {
      "text/plain": [
       "array([[1. , 1. , 1. ],\n",
       "       [1.5, 1.5, 1.5],\n",
       "       [2. , 2. , 2. ]])"
      ]
     },
     "execution_count": 122,
     "metadata": {},
     "output_type": "execute_result"
    }
   ],
   "source": [
    "W_np \n",
    "#it's a numpy array , let's try and convert this array into a tensor"
   ]
  },
  {
   "cell_type": "code",
   "execution_count": 124,
   "id": "c2c77c0c-084e-4f3b-8ec2-bf287028d31b",
   "metadata": {},
   "outputs": [],
   "source": [
    "tensor_weight = torch.Tensor(W_np)"
   ]
  },
  {
   "cell_type": "code",
   "execution_count": 125,
   "id": "c4bb2007-d5d9-448a-b21e-3a12f9a0f2bc",
   "metadata": {},
   "outputs": [
    {
     "data": {
      "text/plain": [
       "tensor([[1.0000, 1.0000, 1.0000],\n",
       "        [1.5000, 1.5000, 1.5000],\n",
       "        [2.0000, 2.0000, 2.0000]])"
      ]
     },
     "execution_count": 125,
     "metadata": {},
     "output_type": "execute_result"
    }
   ],
   "source": [
    "tensor_weight"
   ]
  },
  {
   "cell_type": "code",
   "execution_count": 126,
   "id": "3f79405b-4904-4450-999f-bb8a6429a73d",
   "metadata": {},
   "outputs": [
    {
     "data": {
      "text/plain": [
       "array([[1. , 1. , 1. ],\n",
       "       [1.5, 1.5, 1.5],\n",
       "       [2. , 2. , 2. ]], dtype=float32)"
      ]
     },
     "execution_count": 126,
     "metadata": {},
     "output_type": "execute_result"
    }
   ],
   "source": [
    "np.array(tensor_weight)"
   ]
  },
  {
   "cell_type": "markdown",
   "id": "3bbf01c9-19e1-4492-af63-ae24a33bcfc6",
   "metadata": {},
   "source": [
    "\n",
    "Indexing \n"
   ]
  },
  {
   "cell_type": "code",
   "execution_count": 148,
   "id": "b4215e45-6e96-49b3-ac5e-70343e0a6c60",
   "metadata": {},
   "outputs": [],
   "source": [
    "tensor = torch.rand(2,3,1,4)\n",
    "#tensor = torch.rand(3,3,3)"
   ]
  },
  {
   "cell_type": "code",
   "execution_count": 149,
   "id": "fb74f074-b1c6-43b8-b3ed-d888227e6e39",
   "metadata": {},
   "outputs": [
    {
     "data": {
      "text/plain": [
       "tensor([[[[0.7001, 0.4806, 0.6966, 0.6130]],\n",
       "\n",
       "         [[0.7169, 0.9215, 0.0435, 0.5250]],\n",
       "\n",
       "         [[0.8582, 0.3056, 0.9583, 0.2773]]],\n",
       "\n",
       "\n",
       "        [[[0.1358, 0.1474, 0.0477, 0.6446]],\n",
       "\n",
       "         [[0.1827, 0.1971, 0.3119, 0.3736]],\n",
       "\n",
       "         [[0.1087, 0.4020, 0.2987, 0.7014]]]])"
      ]
     },
     "execution_count": 149,
     "metadata": {},
     "output_type": "execute_result"
    }
   ],
   "source": [
    "tensor"
   ]
  },
  {
   "cell_type": "code",
   "execution_count": 150,
   "id": "e000c4c0-a6b2-45b7-b6f9-e01a1382d28a",
   "metadata": {},
   "outputs": [
    {
     "data": {
      "text/plain": [
       "tensor([[[0.1358, 0.1474, 0.0477, 0.6446]],\n",
       "\n",
       "        [[0.1827, 0.1971, 0.3119, 0.3736]],\n",
       "\n",
       "        [[0.1087, 0.4020, 0.2987, 0.7014]]])"
      ]
     },
     "execution_count": 150,
     "metadata": {},
     "output_type": "execute_result"
    }
   ],
   "source": [
    "tensor[-1]"
   ]
  },
  {
   "cell_type": "code",
   "execution_count": 151,
   "id": "10b6dea8-2052-4d66-8a3b-9c502e8adbf9",
   "metadata": {},
   "outputs": [
    {
     "data": {
      "text/plain": [
       "tensor([[0.7169, 0.9215, 0.0435, 0.5250]])"
      ]
     },
     "execution_count": 151,
     "metadata": {},
     "output_type": "execute_result"
    }
   ],
   "source": [
    "tensor[0,1]"
   ]
  },
  {
   "cell_type": "code",
   "execution_count": 154,
   "id": "e1adea56-f8ba-4826-ad1a-5f5f5d6499f4",
   "metadata": {},
   "outputs": [
    {
     "data": {
      "text/plain": [
       "tensor([0.0435, 0.3119])"
      ]
     },
     "execution_count": 154,
     "metadata": {},
     "output_type": "execute_result"
    }
   ],
   "source": [
    "tensor[:,1,0,2]"
   ]
  },
  {
   "cell_type": "markdown",
   "id": "ca1cb38f-b68a-461e-9eca-2cbea6be5147",
   "metadata": {},
   "source": [
    "\n",
    "#Describing tensor"
   ]
  },
  {
   "cell_type": "code",
   "execution_count": 165,
   "id": "259d3294-0d3e-42a5-95a1-83f09ac91975",
   "metadata": {},
   "outputs": [],
   "source": [
    "tensor = torch.rand(2,2,2)\n"
   ]
  },
  {
   "cell_type": "code",
   "execution_count": 166,
   "id": "af8561b3-a216-4ba2-b3e8-cb50d9970a64",
   "metadata": {},
   "outputs": [
    {
     "data": {
      "text/plain": [
       "tensor([[[0.2720, 0.1756],\n",
       "         [0.9927, 0.1732]],\n",
       "\n",
       "        [[0.8934, 0.8249],\n",
       "         [0.4576, 0.0226]]])"
      ]
     },
     "execution_count": 166,
     "metadata": {},
     "output_type": "execute_result"
    }
   ],
   "source": [
    "tensor"
   ]
  },
  {
   "cell_type": "code",
   "execution_count": 167,
   "id": "cf0bdf97-f8f7-45be-bd22-6dd87e81d0b1",
   "metadata": {},
   "outputs": [
    {
     "data": {
      "text/plain": [
       "8"
      ]
     },
     "execution_count": 167,
     "metadata": {},
     "output_type": "execute_result"
    }
   ],
   "source": [
    "tensor.numel()"
   ]
  },
  {
   "cell_type": "code",
   "execution_count": null,
   "id": "63c6cf27-cc60-4655-b55d-2d465aafe291",
   "metadata": {},
   "outputs": [],
   "source": []
  }
 ],
 "metadata": {
  "kernelspec": {
   "display_name": "Python 3 (ipykernel)",
   "language": "python",
   "name": "python3"
  },
  "language_info": {
   "codemirror_mode": {
    "name": "ipython",
    "version": 3
   },
   "file_extension": ".py",
   "mimetype": "text/x-python",
   "name": "python",
   "nbconvert_exporter": "python",
   "pygments_lexer": "ipython3",
   "version": "3.12.7"
  }
 },
 "nbformat": 4,
 "nbformat_minor": 5
}
